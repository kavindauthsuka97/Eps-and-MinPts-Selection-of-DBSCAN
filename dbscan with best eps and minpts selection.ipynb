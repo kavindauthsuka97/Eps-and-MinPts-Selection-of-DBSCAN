{
 "cells": [
  {
   "cell_type": "code",
   "execution_count": 1,
   "id": "1c6ddcf6-c67d-4245-a286-c681d4ed2504",
   "metadata": {},
   "outputs": [],
   "source": [
    "import pandas as pd\n",
    "from sklearn.datasets import load_iris\n",
    "from sklearn.cluster import DBSCAN\n",
    "from sklearn.neighbors import NearestNeighbors\n",
    "import matplotlib.pyplot as plt\n",
    "%matplotlib inline"
   ]
  },
  {
   "cell_type": "markdown",
   "id": "076e9d05-a9d4-4cc5-8b99-a88123092860",
   "metadata": {},
   "source": [
    "### Load Dataset"
   ]
  },
  {
   "cell_type": "code",
   "execution_count": 2,
   "id": "b171589c-6338-45a9-84ed-df7c51a089cc",
   "metadata": {},
   "outputs": [
    {
     "data": {
      "text/html": [
       "<div>\n",
       "<style scoped>\n",
       "    .dataframe tbody tr th:only-of-type {\n",
       "        vertical-align: middle;\n",
       "    }\n",
       "\n",
       "    .dataframe tbody tr th {\n",
       "        vertical-align: top;\n",
       "    }\n",
       "\n",
       "    .dataframe thead th {\n",
       "        text-align: right;\n",
       "    }\n",
       "</style>\n",
       "<table border=\"1\" class=\"dataframe\">\n",
       "  <thead>\n",
       "    <tr style=\"text-align: right;\">\n",
       "      <th></th>\n",
       "      <th>sepal length</th>\n",
       "      <th>sepal width</th>\n",
       "      <th>petal length</th>\n",
       "      <th>petal width</th>\n",
       "    </tr>\n",
       "  </thead>\n",
       "  <tbody>\n",
       "    <tr>\n",
       "      <th>0</th>\n",
       "      <td>5.1</td>\n",
       "      <td>3.5</td>\n",
       "      <td>1.4</td>\n",
       "      <td>0.2</td>\n",
       "    </tr>\n",
       "    <tr>\n",
       "      <th>1</th>\n",
       "      <td>4.9</td>\n",
       "      <td>3.0</td>\n",
       "      <td>1.4</td>\n",
       "      <td>0.2</td>\n",
       "    </tr>\n",
       "    <tr>\n",
       "      <th>2</th>\n",
       "      <td>4.7</td>\n",
       "      <td>3.2</td>\n",
       "      <td>1.3</td>\n",
       "      <td>0.2</td>\n",
       "    </tr>\n",
       "    <tr>\n",
       "      <th>3</th>\n",
       "      <td>4.6</td>\n",
       "      <td>3.1</td>\n",
       "      <td>1.5</td>\n",
       "      <td>0.2</td>\n",
       "    </tr>\n",
       "    <tr>\n",
       "      <th>4</th>\n",
       "      <td>5.0</td>\n",
       "      <td>3.6</td>\n",
       "      <td>1.4</td>\n",
       "      <td>0.2</td>\n",
       "    </tr>\n",
       "  </tbody>\n",
       "</table>\n",
       "</div>"
      ],
      "text/plain": [
       "   sepal length  sepal width  petal length  petal width\n",
       "0           5.1          3.5           1.4          0.2\n",
       "1           4.9          3.0           1.4          0.2\n",
       "2           4.7          3.2           1.3          0.2\n",
       "3           4.6          3.1           1.5          0.2\n",
       "4           5.0          3.6           1.4          0.2"
      ]
     },
     "execution_count": 2,
     "metadata": {},
     "output_type": "execute_result"
    }
   ],
   "source": [
    "import pandas as pd\n",
    "\n",
    "# Download from seaborn's public dataset repo\n",
    "url = \"https://raw.githubusercontent.com/mwaskom/seaborn-data/master/iris.csv\"\n",
    "raw = pd.read_csv(url)\n",
    "\n",
    "# Keep only the 4 features (drop species) and match your column naming\n",
    "df = raw[['sepal_length', 'sepal_width', 'petal_length', 'petal_width']].copy()\n",
    "df.columns = [c.replace('_', ' ') for c in df.columns]\n",
    "\n",
    "df.head()\n"
   ]
  },
  {
   "cell_type": "markdown",
   "id": "bf6a43f5-660a-4cf3-add3-1365d312d059",
   "metadata": {},
   "source": [
    "### Scale Data"
   ]
  },
  {
   "cell_type": "code",
   "execution_count": 3,
   "id": "0a4dbcd8-599e-4ac7-b83a-373933d0b5ef",
   "metadata": {},
   "outputs": [
    {
     "data": {
      "text/html": [
       "<div>\n",
       "<style scoped>\n",
       "    .dataframe tbody tr th:only-of-type {\n",
       "        vertical-align: middle;\n",
       "    }\n",
       "\n",
       "    .dataframe tbody tr th {\n",
       "        vertical-align: top;\n",
       "    }\n",
       "\n",
       "    .dataframe thead th {\n",
       "        text-align: right;\n",
       "    }\n",
       "</style>\n",
       "<table border=\"1\" class=\"dataframe\">\n",
       "  <thead>\n",
       "    <tr style=\"text-align: right;\">\n",
       "      <th></th>\n",
       "      <th>sepal length</th>\n",
       "      <th>sepal width</th>\n",
       "      <th>petal length</th>\n",
       "      <th>petal width</th>\n",
       "    </tr>\n",
       "  </thead>\n",
       "  <tbody>\n",
       "    <tr>\n",
       "      <th>0</th>\n",
       "      <td>-0.897674</td>\n",
       "      <td>1.015602</td>\n",
       "      <td>-1.335752</td>\n",
       "      <td>-1.311052</td>\n",
       "    </tr>\n",
       "    <tr>\n",
       "      <th>1</th>\n",
       "      <td>-1.139200</td>\n",
       "      <td>-0.131539</td>\n",
       "      <td>-1.335752</td>\n",
       "      <td>-1.311052</td>\n",
       "    </tr>\n",
       "    <tr>\n",
       "      <th>2</th>\n",
       "      <td>-1.380727</td>\n",
       "      <td>0.327318</td>\n",
       "      <td>-1.392399</td>\n",
       "      <td>-1.311052</td>\n",
       "    </tr>\n",
       "    <tr>\n",
       "      <th>3</th>\n",
       "      <td>-1.501490</td>\n",
       "      <td>0.097889</td>\n",
       "      <td>-1.279104</td>\n",
       "      <td>-1.311052</td>\n",
       "    </tr>\n",
       "    <tr>\n",
       "      <th>4</th>\n",
       "      <td>-1.018437</td>\n",
       "      <td>1.245030</td>\n",
       "      <td>-1.335752</td>\n",
       "      <td>-1.311052</td>\n",
       "    </tr>\n",
       "  </tbody>\n",
       "</table>\n",
       "</div>"
      ],
      "text/plain": [
       "   sepal length  sepal width  petal length  petal width\n",
       "0     -0.897674     1.015602     -1.335752    -1.311052\n",
       "1     -1.139200    -0.131539     -1.335752    -1.311052\n",
       "2     -1.380727     0.327318     -1.392399    -1.311052\n",
       "3     -1.501490     0.097889     -1.279104    -1.311052\n",
       "4     -1.018437     1.245030     -1.335752    -1.311052"
      ]
     },
     "execution_count": 3,
     "metadata": {},
     "output_type": "execute_result"
    }
   ],
   "source": [
    "# Scale Data\n",
    "for col in df.columns:  # Iterate through each column in the DataFrame\n",
    "    avg = df[col].mean()  # Calculate the mean (average) of the current column\n",
    "    sd = df[col].std()  # Calculate the standard deviation of the current column\n",
    "    df[col] = df[col].apply(lambda x: (x - avg) / sd)  # Apply z-score standardization: (value - mean) / std_dev\n",
    "df.head()  # Display the first 5 rows of the scaled DataFrame"
   ]
  },
  {
   "cell_type": "markdown",
   "id": "227eda90-b50b-47ab-9856-429f76634edd",
   "metadata": {},
   "source": [
    "### DBSCAN without tuning"
   ]
  },
  {
   "cell_type": "code",
   "execution_count": 4,
   "id": "917d0976-5cfb-4e20-8cda-8611f9e87dd1",
   "metadata": {},
   "outputs": [
    {
     "name": "stdout",
     "output_type": "stream",
     "text": [
      "clusters created: [0, 1, 2, -1]\n"
     ]
    }
   ],
   "source": [
    "# Implement DBSCAN\n",
    "min_samples = df.shape[1] * 2  # Set min_samples to twice the number of features/columns\n",
    "dbscan = DBSCAN(eps=0.5, min_samples=min_samples)  # Create DBSCAN object with eps=0.5 and calculated min_samples\n",
    "clusters = dbscan.fit_predict(df)  # Fit the model to data and predict cluster labels for each point\n",
    "print('clusters created: ' + str(list(set(clusters))))  # Print unique cluster labels (including -1 for noise points)"
   ]
  },
  {
   "cell_type": "markdown",
   "id": "f0787c49-20ac-491c-bdc5-f1236f5cd670",
   "metadata": {},
   "source": [
    "### Tune Eps via KNN"
   ]
  },
  {
   "cell_type": "code",
   "execution_count": 5,
   "id": "05a16f35-d14a-4bd0-be10-3f7445e55b69",
   "metadata": {},
   "outputs": [],
   "source": [
    "# Choose k and compute neighbor distances\n",
    "k = min_samples if min_samples > 2 else 2  # Set k to min_samples, but ensure it's at least 2\n",
    "nbrs = NearestNeighbors(n_neighbors=k).fit(df)  # Create and fit a NearestNeighbors model to find k nearest neighbors\n",
    "distances, indices = nbrs.kneighbors(df)  # Calculate distances and indices of k nearest neighbors for each point"
   ]
  },
  {
   "cell_type": "code",
   "execution_count": 6,
   "id": "ab191da3-addc-4087-ae05-ed201be72f76",
   "metadata": {},
   "outputs": [
    {
     "name": "stdout",
     "output_type": "stream",
     "text": [
      "min samples: 8\n",
      "shape of distances matrix: (150, 8)\n",
      "\n",
      "observation 0: [0.0, 0.13, 0.13, 0.19, 0.24, 0.26, 0.26, 0.27]\n",
      "observation 1: [0.0, 0.17, 0.18, 0.18, 0.24, 0.27, 0.28, 0.43]\n",
      "observation 2: [0.0, 0.13, 0.17, 0.28, 0.31, 0.35, 0.36, 0.37]\n",
      "observation 3: [0.0, 0.24, 0.25, 0.27, 0.28, 0.35, 0.35, 0.36]\n",
      "observation 4: [0.0, 0.18, 0.26, 0.27, 0.29, 0.34, 0.37, 0.43]\n"
     ]
    }
   ],
   "source": [
    "print('min samples: ' + str(min_samples))  # Display the min_samples value used in DBSCAN\n",
    "print('shape of distances matrix: ' + str(distances.shape) + '\\n')  # Show dimensions of distances array (rows=data points, cols=k neighbors)\n",
    "\n",
    "# Loop through the first 5 observations and display their neighbor distances\n",
    "for enum, row in enumerate(distances[:5]):  # Iterate through first 5 rows of distances matrix with enumeration\n",
    "    print('observation ' + str(enum) + ': ' + str([round(x, 2) for x in row]))  # Print observation index and rounded distances to k nearest neighbors"
   ]
  },
  {
   "cell_type": "markdown",
   "id": "59de8487-5b11-4b2f-9ca0-71da0d1d90e5",
   "metadata": {},
   "source": [
    "* 150 rows → one row per sample in the dataset (the Iris set has 150 observations).\n",
    "* 8 columns → for each sample you stored the distances to its 8 nearest neighbors (first value is 0 for the point itself when querying the same data)."
   ]
  },
  {
   "cell_type": "code",
   "execution_count": 7,
   "id": "305bb6df-ed6f-4253-a526-2b5309434726",
   "metadata": {},
   "outputs": [
    {
     "data": {
      "text/html": [
       "<div>\n",
       "<style scoped>\n",
       "    .dataframe tbody tr th:only-of-type {\n",
       "        vertical-align: middle;\n",
       "    }\n",
       "\n",
       "    .dataframe tbody tr th {\n",
       "        vertical-align: top;\n",
       "    }\n",
       "\n",
       "    .dataframe thead th {\n",
       "        text-align: right;\n",
       "    }\n",
       "</style>\n",
       "<table border=\"1\" class=\"dataframe\">\n",
       "  <thead>\n",
       "    <tr style=\"text-align: right;\">\n",
       "      <th></th>\n",
       "      <th>sepal length</th>\n",
       "      <th>sepal width</th>\n",
       "      <th>petal length</th>\n",
       "      <th>petal width</th>\n",
       "      <th>knn_farthest_dist</th>\n",
       "    </tr>\n",
       "  </thead>\n",
       "  <tbody>\n",
       "    <tr>\n",
       "      <th>0</th>\n",
       "      <td>-0.897674</td>\n",
       "      <td>1.015602</td>\n",
       "      <td>-1.335752</td>\n",
       "      <td>-1.311052</td>\n",
       "      <td>0.265387</td>\n",
       "    </tr>\n",
       "    <tr>\n",
       "      <th>1</th>\n",
       "      <td>-1.139200</td>\n",
       "      <td>-0.131539</td>\n",
       "      <td>-1.335752</td>\n",
       "      <td>-1.311052</td>\n",
       "      <td>0.432551</td>\n",
       "    </tr>\n",
       "    <tr>\n",
       "      <th>2</th>\n",
       "      <td>-1.380727</td>\n",
       "      <td>0.327318</td>\n",
       "      <td>-1.392399</td>\n",
       "      <td>-1.311052</td>\n",
       "      <td>0.366692</td>\n",
       "    </tr>\n",
       "    <tr>\n",
       "      <th>3</th>\n",
       "      <td>-1.501490</td>\n",
       "      <td>0.097889</td>\n",
       "      <td>-1.279104</td>\n",
       "      <td>-1.311052</td>\n",
       "      <td>0.362290</td>\n",
       "    </tr>\n",
       "    <tr>\n",
       "      <th>4</th>\n",
       "      <td>-1.018437</td>\n",
       "      <td>1.245030</td>\n",
       "      <td>-1.335752</td>\n",
       "      <td>-1.311052</td>\n",
       "      <td>0.432551</td>\n",
       "    </tr>\n",
       "  </tbody>\n",
       "</table>\n",
       "</div>"
      ],
      "text/plain": [
       "   sepal length  sepal width  petal length  petal width  knn_farthest_dist\n",
       "0     -0.897674     1.015602     -1.335752    -1.311052           0.265387\n",
       "1     -1.139200    -0.131539     -1.335752    -1.311052           0.432551\n",
       "2     -1.380727     0.327318     -1.392399    -1.311052           0.366692\n",
       "3     -1.501490     0.097889     -1.279104    -1.311052           0.362290\n",
       "4     -1.018437     1.245030     -1.335752    -1.311052           0.432551"
      ]
     },
     "execution_count": 7,
     "metadata": {},
     "output_type": "execute_result"
    }
   ],
   "source": [
    "# the last cell of each row represents the distance of the k'th farthest point\n",
    "df['knn_farthest_dist'] = distances[:, -1]  # Add new column with k-th nearest neighbor distance for each point\n",
    "df.head()  # Display first 5 rows of DataFrame including the new knn_farthest_dist column"
   ]
  },
  {
   "cell_type": "code",
   "execution_count": 8,
   "id": "1410c27b-5096-4131-a04a-afc7d097b329",
   "metadata": {},
   "outputs": [
    {
     "data": {
      "image/png": "[encoded data removed]",
      "text/plain": [
       "<Figure size 640x480 with 1 Axes>"
      ]
     },
     "metadata": {},
     "output_type": "display_data"
    }
   ],
   "source": [
    "# Plot the k-distance graph\n",
    "df.sort_values('knn_farthest_dist', ascending=False).reset_index()[['knn_farthest_dist']].plot()  # Sort by k-distance (high to low), reset index, and plot\n",
    "plt.xlabel('index')  # Label x-axis as 'index' (represents sorted data points)\n",
    "plt.ylabel('distance')  # Label y-axis as 'distance' (k-th nearest neighbor distance)\n",
    "plt.grid(True)  # Add grid lines to the plot for better readability\n",
    "plt.show()  # Display the plot"
   ]
  },
  {
   "cell_type": "code",
   "execution_count": 9,
   "id": "281aabb4-eba7-4a85-9106-e706bff16c53",
   "metadata": {},
   "outputs": [
    {
     "data": {
      "text/plain": [
       "cluster\n",
       " 1    86\n",
       " 0    47\n",
       "-1    17\n",
       "Name: count, dtype: int64"
      ]
     },
     "execution_count": 9,
     "metadata": {},
     "output_type": "execute_result"
    }
   ],
   "source": [
    "# DBSCAN using chosen params\n",
    "km = DBSCAN(eps=0.7, min_samples=min_samples)\n",
    "df['cluster'] = km.fit_predict(df[['sepal length', 'sepal width', 'petal length', 'petal width']])\n",
    "df.cluster.value_counts()"
   ]
  },
  {
   "cell_type": "code",
   "execution_count": null,
   "id": "cffafdec-799e-4015-9f17-afc5b4295ebe",
   "metadata": {},
   "outputs": [],
   "source": []
  }
 ],
 "metadata": {
  "kernelspec": {
   "display_name": "conda_python3",
   "language": "python",
   "name": "conda_python3"
  },
  "language_info": {
   "codemirror_mode": {
    "name": "ipython",
    "version": 3
   },
   "file_extension": ".py",
   "mimetype": "text/x-python",
   "name": "python",
   "nbconvert_exporter": "python",
   "pygments_lexer": "ipython3",
   "version": "3.10.18"
  }
 },
 "nbformat": 4,
 "nbformat_minor": 5
}
